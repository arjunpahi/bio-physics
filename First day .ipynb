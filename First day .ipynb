{
 "cells": [
  {
   "cell_type": "markdown",
   "metadata": {},
   "source": [
    "$h=h_{\\circ}+v_{\\circ}t-\\frac{1}{2}gt^{2}$"
   ]
  },
  {
   "cell_type": "markdown",
   "metadata": {},
   "source": [
    "$v=v_{\\circ}-gt$"
   ]
  },
  {
   "cell_type": "markdown",
   "metadata": {},
   "source": [
    "$g=9.8 m/s^{2}$"
   ]
  },
  {
   "cell_type": "markdown",
   "metadata": {},
   "source": [
    "$h_{\\circ}=1.6m$"
   ]
  },
  {
   "cell_type": "markdown",
   "metadata": {},
   "source": [
    "$v_{\\circ}=14.2m/s$"
   ]
  },
  {
   "cell_type": "markdown",
   "metadata": {},
   "source": [
    "(i) velocity and height after $t=0.5s $"
   ]
  },
  {
   "cell_type": "markdown",
   "metadata": {},
   "source": [
    "(ii)velocity and height after $t=2.0s $ "
   ]
  },
  {
   "cell_type": "code",
   "execution_count": 30,
   "metadata": {},
   "outputs": [
    {
     "name": "stdout",
     "output_type": "stream",
     "text": [
      "7.475\n"
     ]
    }
   ],
   "source": [
    "import numpy as np\n",
    "h0=1.6\n",
    "v0=14.2\n",
    "g=9.8\n",
    "def f(t):\n",
    "    return h0+v0*t-1/2*g*t**2\n",
    "print(f(0.5))"
   ]
  },
  {
   "cell_type": "code",
   "execution_count": 31,
   "metadata": {},
   "outputs": [
    {
     "name": "stdout",
     "output_type": "stream",
     "text": [
      "10.399999999999999\n"
     ]
    }
   ],
   "source": [
    "print(f(2.0))"
   ]
  },
  {
   "cell_type": "markdown",
   "metadata": {},
   "source": [
    "$v=v_{\\circ}(1-\\frac{z}{\\sqrt(a^{2}+z^{2})})$"
   ]
  },
  {
   "cell_type": "code",
   "execution_count": 38,
   "metadata": {},
   "outputs": [
    {
     "name": "stdout",
     "output_type": "stream",
     "text": [
      "1.3398094737126087\n"
     ]
    }
   ],
   "source": [
    "v0=10\n",
    "a=2.5\n",
    "def f(z):\n",
    "    return v0*(1-z/np.sqrt(a**2+z**2))\n",
    "print(f(4.33))"
   ]
  },
  {
   "cell_type": "code",
   "execution_count": 39,
   "metadata": {},
   "outputs": [
    {
     "name": "stdout",
     "output_type": "stream",
     "text": [
      "0.42975595566526414\n"
     ]
    }
   ],
   "source": [
    "print(f(8.25))"
   ]
  },
  {
   "cell_type": "markdown",
   "metadata": {},
   "source": [
    "### Alternate Method"
   ]
  },
  {
   "cell_type": "code",
   "execution_count": 40,
   "metadata": {},
   "outputs": [
    {
     "name": "stdout",
     "output_type": "stream",
     "text": [
      "1.3398094737126087\n"
     ]
    }
   ],
   "source": [
    "v0=10\n",
    "a=2.5\n",
    "z=4.33\n",
    "f=v0*(1-z/np.sqrt(a**2+z**2))\n",
    "print(f)"
   ]
  },
  {
   "cell_type": "code",
   "execution_count": 41,
   "metadata": {},
   "outputs": [
    {
     "name": "stdout",
     "output_type": "stream",
     "text": [
      "7.475\n"
     ]
    }
   ],
   "source": [
    "h0=1.6\n",
    "v0=14.2\n",
    "g=9.8\n",
    "t=0.5\n",
    "x=h0+v0*t-1/2*g*t**2\n",
    "print(x)"
   ]
  },
  {
   "cell_type": "code",
   "execution_count": null,
   "metadata": {},
   "outputs": [],
   "source": []
  }
 ],
 "metadata": {
  "kernelspec": {
   "display_name": "Python 3",
   "language": "python",
   "name": "python3"
  },
  "language_info": {
   "codemirror_mode": {
    "name": "ipython",
    "version": 3
   },
   "file_extension": ".py",
   "mimetype": "text/x-python",
   "name": "python",
   "nbconvert_exporter": "python",
   "pygments_lexer": "ipython3",
   "version": "3.7.6"
  }
 },
 "nbformat": 4,
 "nbformat_minor": 4
}
